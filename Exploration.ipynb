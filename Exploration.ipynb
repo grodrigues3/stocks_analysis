{
 "cells": [
  {
   "cell_type": "code",
   "execution_count": 1,
   "metadata": {},
   "outputs": [
    {
     "data": {
      "text/plain": [
       "'\\nUses the dataset provided here: \\nhttps://www.kaggle.com/jacksoncrow/stock-market-dataset/data#\\n'"
      ]
     },
     "execution_count": 1,
     "metadata": {},
     "output_type": "execute_result"
    }
   ],
   "source": [
    "\"\"\"\n",
    "Uses the dataset provided here: \n",
    "https://www.kaggle.com/jacksoncrow/stock-market-dataset/data#\n",
    "\"\"\"\n",
    "        "
   ]
  },
  {
   "cell_type": "code",
   "execution_count": 22,
   "metadata": {},
   "outputs": [],
   "source": [
    "import os, datetime, random\n",
    "import pandas as pd\n",
    "import numpy as np\n",
    "BASEDIR = os.getcwd()\n",
    "STOCK_DIR_NAME = \"stocks\"\n",
    "ETF_DIR_NAME = \"etfs\" #do nothing with this for now\n",
    "stock_dir, etf_dir = os.path.join(BASEDIR, STOCK_DIR_NAME), os.path.join(BASEDIR, ETF_DIR_NAME)\n",
    "stocks = os.listdir(stock_dir)\n",
    "etfs = os.listdir(etf_dir)"
   ]
  },
  {
   "cell_type": "code",
   "execution_count": 23,
   "metadata": {},
   "outputs": [
    {
     "name": "stdout",
     "output_type": "stream",
     "text": [
      "5884 total stocks\n",
      "2165 total etfs\n"
     ]
    }
   ],
   "source": [
    "# Dataset Statistics\n",
    "print(\"{} total stocks\".format(len(stocks)))\n",
    "print(\"{} total etfs\".format(len(etfs)))"
   ]
  },
  {
   "cell_type": "code",
   "execution_count": 29,
   "metadata": {},
   "outputs": [],
   "source": [
    "\"\"\"\n",
    "This cell takes awhile to run.  Computes the max and min for each stock and finds the ratio between the two.\n",
    "Outputs stock above a certain ratio\n",
    "\"\"\"\n",
    "def find_big_changers(list_of_stocks, ratio_threshold=20):\n",
    "    \"\"\"\n",
    "    list_of_stocks: list of csv files that can be read into panda data frames\n",
    "    output: tickers and data fo stocks above the specified ratio threshold\n",
    "    \"\"\"\n",
    "    output = []\n",
    "    broken = []\n",
    "    j = 1\n",
    "    for fn in stocks:\n",
    "        df = pd.read_csv(os.path.join(stock_dir, fn))\n",
    "        low_date, low_val = df.loc[df['Low'].idxmin()]['Date'], df.min()[\"Low\"]\n",
    "        high_date, high_val = df.loc[df['High'].idxmax()]['Date'], df.max()[\"High\"]\n",
    "        try:\n",
    "            ratio = high_val/low_val\n",
    "        except:\n",
    "            broken += fn,\n",
    "            continue #something went wrong, skip this stock\n",
    "        if ratio > ratio_threshold:\n",
    "            output += [fn.strip(\".csv\"), low_date, low_val, high_date, high_val, ratio],\n",
    "            j+=1\n",
    "        #if j > 100: #DEBUG STATEMENT, remove later\n",
    "            #break\n",
    "    df = pd.DataFrame(output)\n",
    "    df.columns = ['Ticker', 'Low Date', 'Low Val', 'High Date', 'High Val', 'Ratio']\n",
    "    df = df.assign(date_diff = lambda x: pd.to_datetime(x['High Date']) - pd.to_datetime(x['Low Date']))\n",
    "    print(\"Something went wrong with these stocks: {}\".format(broken))\n",
    "    return df\n",
    "\n",
    "\n",
    "\n"
   ]
  },
  {
   "cell_type": "code",
   "execution_count": 19,
   "metadata": {},
   "outputs": [],
   "source": [
    "# Helper Functions \n",
    "def just_gainers(stock_data):\n",
    "    return stock_data.loc[stock_data[\"date_diff\"] > pd.Timedelta(0, unit=\"days\")]\n",
    "\n",
    "def just_losers(stock_data):\n",
    "    return stock_data.loc[stock_data[\"date_diff\"] < pd.Timedelta(0, unit=\"days\")]\n",
    "\n",
    "def sort_by_peak_date(stock_data):\n",
    "    #TODO implement this\n",
    "    pass\n",
    "        \n",
    "def sort_by_biggest_change(stock_data):\n",
    "    #TODO implement this\n",
    "    pass \n",
    "        \n",
    "def shortest_time_to_change(stock_data):\n",
    "    return stock_data.sort_values(by='date_diff')\n",
    "\n",
    "def most_recent_winners(stock_data):\n",
    "    sd = just_gainers(stock_data)\n",
    "    return sd.sort_values(by='High Date')\n",
    "\n",
    "def most_recent_losers(stock_data):\n",
    "    sd = just_losers(stock_data)\n",
    "    return sd.sort_values(by='Low Date', ascending=False)\n",
    "\n"
   ]
  },
  {
   "cell_type": "code",
   "execution_count": null,
   "metadata": {},
   "outputs": [],
   "source": [
    "output = find_big_changers(stocks)"
   ]
  },
  {
   "cell_type": "code",
   "execution_count": null,
   "metadata": {},
   "outputs": [],
   "source": [
    "# Useful for analyzing stocks that have gained 20+x\n",
    "# These are the positive samples in our search and we want to find stocks like these\n",
    "winners = just_gainers(output)\n",
    "\n",
    "# Stocks that gained a 20+x in a short period of time.  Why? \n",
    "x = shortest_time_to_change(winners)\n",
    "\n",
    "# TODO: get some historical financials data"
   ]
  },
  {
   "cell_type": "code",
   "execution_count": 16,
   "metadata": {
    "scrolled": true
   },
   "outputs": [
    {
     "name": "stdout",
     "output_type": "stream",
     "text": [
      "         Low Val      High Val         Ratio                    date_diff\n",
      "count  42.000000  4.200000e+01  4.200000e+01                           42\n",
      "mean    1.700340  5.030869e+06  1.005300e+07  -3927 days +17:42:51.428571\n",
      "std     1.790835  3.254705e+07  6.509542e+07    2161 days 04:16:56.186655\n",
      "min     0.010000  1.268000e+01  2.065657e+01         -8749 days +00:00:00\n",
      "25%     0.500000  3.973500e+01  4.249731e+01         -4918 days +12:00:00\n",
      "50%     1.060000  1.562852e+02  1.354493e+02         -3990 days +12:00:00\n",
      "75%     2.385000  4.552500e+02  3.644043e+02         -2371 days +06:00:00\n",
      "max     8.600000  2.109375e+08  4.218750e+08          -546 days +00:00:00\n",
      "      Ticker    Low Date  Low Val   High Date      High Val         Ratio  \\\n",
      "27   ERF.csv  2020-03-30  1.15000  2006-08-07  5.945000e+01  5.169565e+01   \n",
      "52  ASTC.csv  2020-03-23  0.98000  1996-04-09  8.000000e+02  8.163265e+02   \n",
      "12   NTZ.csv  2020-03-23  0.40000  1997-08-12  1.465625e+02  3.664062e+02   \n",
      "30   PDS.csv  2020-03-20  0.27000  2005-09-19  5.172000e+01  1.915556e+02   \n",
      "72  CREX.csv  2020-03-19  0.52000  2007-04-19  1.570500e+03  3.020192e+03   \n",
      "50    AM.csv  2020-03-19  1.69000  2017-02-10  3.574000e+01  2.114793e+01   \n",
      "88  QUIK.csv  2020-03-19  2.12000  2000-03-01  6.265000e+02  2.955189e+02   \n",
      "74   TDW.csv  2020-03-19  4.84000  2007-07-23  2.580645e+03  5.331912e+02   \n",
      "0   ANTE.csv  2020-03-18  0.65000  2008-01-14  1.325500e+02  2.039231e+02   \n",
      "48  CEQP.csv  2020-03-18  2.65000  2010-08-03  2.588339e+02  9.767318e+01   \n",
      "73  XELA.csv  2020-03-18  0.08600  2015-10-12  1.268000e+01  1.474419e+02   \n",
      "43    MN.csv  2020-03-18  0.99000  2013-06-05  2.045000e+01  2.065657e+01   \n",
      "33   NOG.csv  2020-03-18  0.50000  2011-03-07  3.398000e+01  6.796000e+01   \n",
      "21  TLRY.csv  2020-03-18  2.43000  2018-09-19  3.000000e+02  1.234568e+02   \n",
      "53   HOV.csv  2020-03-18  5.12000  2005-07-20  1.835000e+03  3.583984e+02   \n",
      "95   JOB.csv  2020-03-17  0.17000  1997-12-31  1.660079e+02  9.765171e+02   \n",
      "9   ISSC.csv  2020-03-16  1.20000  2007-04-27  2.942000e+01  2.451667e+01   \n",
      "2    UNT.csv  2020-03-12  0.15000  2008-07-02  8.824000e+01  5.882666e+02   \n",
      "80   CGA.csv  2020-03-10  1.80000  2008-06-11  3.960000e+02  2.200000e+02   \n",
      "35  CHAP.csv  2020-03-09  0.24300  2018-01-24  2.585000e+01  1.063786e+02   \n",
      "89  STON.csv  2020-03-09  0.90000  2011-01-24  3.351000e+01  3.723333e+01   \n",
      "87  GURE.csv  2019-12-18  2.25000  2010-01-11  7.470000e+01  3.320000e+01   \n",
      "76   CEI.csv  2019-12-04  0.50000  2007-06-22  2.109375e+08  4.218750e+08   \n",
      "24  COHN.csv  2019-12-03  2.79000  2004-03-18  1.295000e+03  4.641577e+02   \n",
      "85  DUOT.csv  2019-09-10  0.32000  2009-03-31  2.123330e+04  6.635407e+04   \n",
      "49  DRRX.csv  2018-12-28  0.46000  2000-09-28  1.850000e+01  4.021739e+01   \n",
      "78   SCU.csv  2018-12-27  8.60000  2007-11-14  3.280000e+02  3.813953e+01   \n",
      "31  OESX.csv  2018-12-24  0.53000  2007-12-26  2.246000e+01  4.237736e+01   \n",
      "42  SCYX.csv  2018-12-21  0.35000  2015-01-13  1.500000e+01  4.285714e+01   \n",
      "90  MBOT.csv  2018-12-18  1.38000  2000-03-03  3.240000e+05  2.347826e+05   \n",
      "39  AMSC.csv  2017-08-08  2.89000  2000-02-28  7.512500e+02  2.599481e+02   \n",
      "34   BXC.csv  2016-01-13  3.00000  2005-03-08  1.825000e+02  6.083333e+01   \n",
      "32  BLDP.csv  2012-11-16  0.56000  2000-03-02  1.449375e+02  2.588170e+02   \n",
      "94  SMBK.csv  2011-11-22  3.00000  2006-12-19  6.666666e+01  2.222222e+01   \n",
      "96  VRML.csv  2009-07-16  0.01000  2000-10-02  3.943750e+02  3.943750e+04   \n",
      "7   SITC.csv  2009-03-09  2.05352  2007-02-09  1.076310e+02  5.241293e+01   \n",
      "44  HAFC.csv  2009-03-05  6.00000  2007-01-03  1.854400e+02  3.090667e+01   \n",
      "69   THC.csv  2009-02-23  3.12000  2002-10-03  2.100000e+02  6.730769e+01   \n",
      "26  PRGX.csv  2006-08-14  2.03000  1999-10-05  4.750000e+02  2.339902e+02   \n",
      "68  AMKR.csv  2002-09-24  1.13000  2000-03-24  6.531250e+01  5.779867e+01   \n",
      "75  TATT.csv  1998-08-28  0.71875  1993-02-11  2.962500e+01  4.121739e+01   \n",
      "41   SWP.csv  1997-07-18  0.86300  1989-05-15  1.756130e+02  2.034913e+02   \n",
      "\n",
      "    date_diff  \n",
      "27 -4984 days  \n",
      "52 -8749 days  \n",
      "12 -8259 days  \n",
      "30 -5296 days  \n",
      "72 -4718 days  \n",
      "50 -1133 days  \n",
      "88 -7323 days  \n",
      "74 -4623 days  \n",
      "0  -4447 days  \n",
      "48 -3515 days  \n",
      "73 -1619 days  \n",
      "43 -2478 days  \n",
      "33 -3299 days  \n",
      "21  -546 days  \n",
      "53 -5355 days  \n",
      "95 -8112 days  \n",
      "9  -4707 days  \n",
      "2  -4271 days  \n",
      "80 -4290 days  \n",
      "35  -775 days  \n",
      "89 -3332 days  \n",
      "87 -3628 days  \n",
      "76 -4548 days  \n",
      "24 -5738 days  \n",
      "85 -3815 days  \n",
      "49 -6665 days  \n",
      "78 -4061 days  \n",
      "31 -4016 days  \n",
      "42 -1438 days  \n",
      "90 -6864 days  \n",
      "39 -6371 days  \n",
      "34 -3963 days  \n",
      "32 -4642 days  \n",
      "94 -1799 days  \n",
      "96 -3209 days  \n",
      "7   -759 days  \n",
      "44  -792 days  \n",
      "69 -2335 days  \n",
      "26 -2505 days  \n",
      "68  -914 days  \n",
      "75 -2024 days  \n",
      "41 -2986 days  \n"
     ]
    }
   ],
   "source": [
    "# Might be useful for stocks that overcorrected.  \n",
    "recent_losers = most_recent_losers(output)\n",
    "print(recent_losers.describe())\n",
    "print(recent_losers)\n"
   ]
  },
  {
   "cell_type": "code",
   "execution_count": 26,
   "metadata": {},
   "outputs": [
    {
     "data": {
      "text/plain": [
       "'2016-01-08'"
      ]
     },
     "execution_count": 26,
     "metadata": {},
     "output_type": "execute_result"
    }
   ],
   "source": []
  },
  {
   "cell_type": "code",
   "execution_count": 26,
   "metadata": {},
   "outputs": [
    {
     "data": {
      "text/plain": [
       "<matplotlib.axes._subplots.AxesSubplot at 0x10c89cbd0>"
      ]
     },
     "execution_count": 26,
     "metadata": {},
     "output_type": "execute_result"
    },
    {
     "data": {
      "image/png": "[encoded data removed]",
      "text/plain": [
       "<Figure size 432x288 with 1 Axes>"
      ]
     },
     "metadata": {
      "needs_background": "light"
     },
     "output_type": "display_data"
    }
   ],
   "source": [
    "df.plot()"
   ]
  },
  {
   "cell_type": "code",
   "execution_count": 33,
   "metadata": {},
   "outputs": [],
   "source": [
    "from numpy.random import randn\n",
    "ts = pd.Series(randn(1000), index=pd.date_range('1/1/2000', periods=1000))\n"
   ]
  },
  {
   "cell_type": "code",
   "execution_count": 44,
   "metadata": {},
   "outputs": [
    {
     "ename": "ValueError",
     "evalue": "x must be a label or position",
     "output_type": "error",
     "traceback": [
      "\u001b[0;31m---------------------------------------------------------------------------\u001b[0m",
      "\u001b[0;31mValueError\u001b[0m                                Traceback (most recent call last)",
      "\u001b[0;32m<ipython-input-44-5ddd06a00cb6>\u001b[0m in \u001b[0;36m<module>\u001b[0;34m\u001b[0m\n\u001b[1;32m      1\u001b[0m \u001b[0mplt\u001b[0m\u001b[0;34m.\u001b[0m\u001b[0mfigure\u001b[0m\u001b[0;34m(\u001b[0m\u001b[0;34m)\u001b[0m\u001b[0;34m\u001b[0m\u001b[0;34m\u001b[0m\u001b[0m\n\u001b[0;32m----> 2\u001b[0;31m \u001b[0mdf\u001b[0m\u001b[0;34m.\u001b[0m\u001b[0mplot\u001b[0m\u001b[0;34m(\u001b[0m\u001b[0;34m[\u001b[0m\u001b[0;34m'Open'\u001b[0m\u001b[0;34m,\u001b[0m \u001b[0;34m'High'\u001b[0m\u001b[0;34m,\u001b[0m \u001b[0;34m'Low'\u001b[0m\u001b[0;34m,\u001b[0m \u001b[0;34m'Close'\u001b[0m\u001b[0;34m]\u001b[0m\u001b[0;34m)\u001b[0m\u001b[0;34m\u001b[0m\u001b[0;34m\u001b[0m\u001b[0m\n\u001b[0m\u001b[1;32m      3\u001b[0m \u001b[0mplt\u001b[0m\u001b[0;34m.\u001b[0m\u001b[0mlegend\u001b[0m\u001b[0;34m(\u001b[0m\u001b[0mloc\u001b[0m\u001b[0;34m=\u001b[0m\u001b[0;34m'best'\u001b[0m\u001b[0;34m)\u001b[0m\u001b[0;34m\u001b[0m\u001b[0;34m\u001b[0m\u001b[0m\n",
      "\u001b[0;32m~/opt/miniconda3/lib/python3.7/site-packages/pandas/plotting/_core.py\u001b[0m in \u001b[0;36m__call__\u001b[0;34m(self, *args, **kwargs)\u001b[0m\n\u001b[1;32m    811\u001b[0m                     \u001b[0mx\u001b[0m \u001b[0;34m=\u001b[0m \u001b[0mdata_cols\u001b[0m\u001b[0;34m[\u001b[0m\u001b[0mx\u001b[0m\u001b[0;34m]\u001b[0m\u001b[0;34m\u001b[0m\u001b[0;34m\u001b[0m\u001b[0m\n\u001b[1;32m    812\u001b[0m                 \u001b[0;32melif\u001b[0m \u001b[0;32mnot\u001b[0m \u001b[0misinstance\u001b[0m\u001b[0;34m(\u001b[0m\u001b[0mdata\u001b[0m\u001b[0;34m[\u001b[0m\u001b[0mx\u001b[0m\u001b[0;34m]\u001b[0m\u001b[0;34m,\u001b[0m \u001b[0mABCSeries\u001b[0m\u001b[0;34m)\u001b[0m\u001b[0;34m:\u001b[0m\u001b[0;34m\u001b[0m\u001b[0;34m\u001b[0m\u001b[0m\n\u001b[0;32m--> 813\u001b[0;31m                     \u001b[0;32mraise\u001b[0m \u001b[0mValueError\u001b[0m\u001b[0;34m(\u001b[0m\u001b[0;34m\"x must be a label or position\"\u001b[0m\u001b[0;34m)\u001b[0m\u001b[0;34m\u001b[0m\u001b[0;34m\u001b[0m\u001b[0m\n\u001b[0m\u001b[1;32m    814\u001b[0m                 \u001b[0mdata\u001b[0m \u001b[0;34m=\u001b[0m \u001b[0mdata\u001b[0m\u001b[0;34m.\u001b[0m\u001b[0mset_index\u001b[0m\u001b[0;34m(\u001b[0m\u001b[0mx\u001b[0m\u001b[0;34m)\u001b[0m\u001b[0;34m\u001b[0m\u001b[0;34m\u001b[0m\u001b[0m\n\u001b[1;32m    815\u001b[0m             \u001b[0;32mif\u001b[0m \u001b[0my\u001b[0m \u001b[0;32mis\u001b[0m \u001b[0;32mnot\u001b[0m \u001b[0;32mNone\u001b[0m\u001b[0;34m:\u001b[0m\u001b[0;34m\u001b[0m\u001b[0;34m\u001b[0m\u001b[0m\n",
      "\u001b[0;31mValueError\u001b[0m: x must be a label or position"
     ]
    },
    {
     "data": {
      "text/plain": [
       "<Figure size 432x288 with 0 Axes>"
      ]
     },
     "metadata": {},
     "output_type": "display_data"
    }
   ],
   "source": [
    "plt.figure()\n",
    "df.plot(['Open', 'High', 'Low', 'Close'])\n",
    "plt.legend(loc='best')"
   ]
  },
  {
   "cell_type": "code",
   "execution_count": 40,
   "metadata": {},
   "outputs": [
    {
     "data": {
      "text/plain": [
       "<matplotlib.legend.Legend at 0x11cc3d9d0>"
      ]
     },
     "execution_count": 40,
     "metadata": {},
     "output_type": "execute_result"
    },
    {
     "data": {
      "text/plain": [
       "<Figure size 432x288 with 0 Axes>"
      ]
     },
     "metadata": {},
     "output_type": "display_data"
    },
    {
     "data": {
      "image/png": "[encoded data removed]",
      "text/plain": [
       "<Figure size 432x288 with 1 Axes>"
      ]
     },
     "metadata": {
      "needs_background": "light"
     },
     "output_type": "display_data"
    }
   ],
   "source": [
    "import matplotlib.pyplot as plt\n",
    "df = df.cumsum()\n",
    "plt.figure(); df.plot(); plt.legend(loc='best')"
   ]
  },
  {
   "cell_type": "code",
   "execution_count": 17,
   "metadata": {},
   "outputs": [
    {
     "data": {
      "text/plain": [
       "'hello'"
      ]
     },
     "execution_count": 17,
     "metadata": {},
     "output_type": "execute_result"
    }
   ],
   "source": []
  }
 ],
 "metadata": {
  "kernelspec": {
   "display_name": "Python 3",
   "language": "python",
   "name": "python3"
  },
  "language_info": {
   "codemirror_mode": {
    "name": "ipython",
    "version": 3
   },
   "file_extension": ".py",
   "mimetype": "text/x-python",
   "name": "python",
   "nbconvert_exporter": "python",
   "pygments_lexer": "ipython3",
   "version": "3.7.6"
  }
 },
 "nbformat": 4,
 "nbformat_minor": 4
}
